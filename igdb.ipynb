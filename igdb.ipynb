{
 "cells": [
  {
   "cell_type": "code",
   "execution_count": 1,
   "metadata": {},
   "outputs": [],
   "source": [
    "import os\n",
    "from dotenv import load_dotenv\n",
    "from requests import get\n",
    "import requests \n",
    "import json\n",
    "import pandas as pd\n",
    "\n",
    "url = 'https://id.twitch.tv/oauth2/token?'\n",
    "\n",
    "TWITCH_CLIENT_ID = os.getenv('TWITCH_CLIENT_ID')\n",
    "TWITCH_CLIENT_SECRET = os.getenv('TWITCH_CLIENT_SECRET')\n",
    "\n",
    "params = {\n",
    "    'client_id': TWITCH_CLIENT_ID,\n",
    "    'client_secret': TWITCH_CLIENT_SECRET,\n",
    "    'grant_type': 'client_credentials'\n",
    "}\n",
    "\n",
    "creds = requests.post(url, params=params).json()\n"
   ]
  },
  {
   "cell_type": "code",
   "execution_count": 2,
   "metadata": {},
   "outputs": [
    {
     "data": {
      "text/plain": [
       "{'access_token': 'e1xcy8m32a80lzpr2f82t43vujfxzd',\n",
       " 'expires_in': 5588570,\n",
       " 'token_type': 'bearer'}"
      ]
     },
     "execution_count": 2,
     "metadata": {},
     "output_type": "execute_result"
    }
   ],
   "source": []
  }
 ],
 "metadata": {
  "kernelspec": {
   "display_name": "dev",
   "language": "python",
   "name": "python3"
  },
  "language_info": {
   "codemirror_mode": {
    "name": "ipython",
    "version": 3
   },
   "file_extension": ".py",
   "mimetype": "text/x-python",
   "name": "python",
   "nbconvert_exporter": "python",
   "pygments_lexer": "ipython3",
   "version": "3.10.13"
  }
 },
 "nbformat": 4,
 "nbformat_minor": 2
}
