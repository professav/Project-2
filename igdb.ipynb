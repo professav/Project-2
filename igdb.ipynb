{
 "cells": [
  {
   "cell_type": "code",
   "execution_count": 1,
   "metadata": {},
   "outputs": [],
   "source": [
    "import os\n",
    "from dotenv import load_dotenv\n",
    "from requests import get\n",
    "import requests \n",
    "import json\n",
    "import pandas as pd\n",
    "\n",
    "url = 'https://id.twitch.tv/oauth2/token?'\n",
    "\n",
    "TWITCH_CLIENT_ID = os.getenv('TWITCH_CLIENT_ID')\n",
    "TWITCH_CLIENT_SECRET = os.getenv('TWITCH_CLIENT_SECRET')\n",
    "\n",
    "params = {\n",
    "    'client_id': TWITCH_CLIENT_ID,\n",
    "    'client_secret': TWITCH_CLIENT_SECRET,\n",
    "    'grant_type': 'client_credentials'\n",
    "}\n",
    "\n",
    "creds = requests.post(url=url, params=params).json()\n"
   ]
  },
  {
   "cell_type": "code",
   "execution_count": 9,
   "metadata": {},
   "outputs": [
    {
     "data": {
      "text/plain": [
       "[{'id': 131913},\n",
       " {'id': 88308},\n",
       " {'id': 122801},\n",
       " {'id': 95080},\n",
       " {'id': 104748},\n",
       " {'id': 89616},\n",
       " {'id': 91579},\n",
       " {'id': 296390},\n",
       " {'id': 124961},\n",
       " {'id': 291036}]"
      ]
     },
     "execution_count": 9,
     "metadata": {},
     "output_type": "execute_result"
    }
   ],
   "source": [
    "headers = {\n",
    "    'Client-ID': TWITCH_CLIENT_ID,\n",
    "    'Authorization': f'Bearer {creds[\"access_token\"]}'\n",
    "}\n",
    "\n",
    "games = requests.get('https://api.igdb.com/v4/games', headers=headers)\n",
    "\n",
    "games.json()"
   ]
  },
  {
   "cell_type": "code",
   "execution_count": null,
   "metadata": {},
   "outputs": [],
   "source": []
  }
 ],
 "metadata": {
  "kernelspec": {
   "display_name": "dev",
   "language": "python",
   "name": "python3"
  },
  "language_info": {
   "codemirror_mode": {
    "name": "ipython",
    "version": 3
   },
   "file_extension": ".py",
   "mimetype": "text/x-python",
   "name": "python",
   "nbconvert_exporter": "python",
   "pygments_lexer": "ipython3",
   "version": "3.10.13"
  }
 },
 "nbformat": 4,
 "nbformat_minor": 2
}
